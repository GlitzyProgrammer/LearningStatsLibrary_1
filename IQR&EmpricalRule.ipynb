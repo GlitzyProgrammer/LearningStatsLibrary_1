{
 "cells": [
  {
   "cell_type": "code",
   "execution_count": 3,
   "metadata": {},
   "outputs": [],
   "source": [
    "import pandas as pd \n",
    "import matplotlib.pyplot as plt\n",
    "\n",
    "df = pd.read_excel(r\"C:\\Users\\ljwil\\Desktop\\Intro STATS\\Project Stats 2\\Chapter 3\\Movies2016.xlsx\",sheet_name=\"Sheet1\")\n",
    "\n",
    "df['Opening Gross Sales ($ millions)'] =  pd.read_excel(r\"C:\\Users\\ljwil\\Desktop\\Intro STATS\\Project Stats 2\\Chapter 3\\Movies2016.xlsx\",usecols=['Opening Gross Sales ($ millions)'])\n",
    "df[\"Total Gross Sales ($ millions)\"] = pd.read_excel(r\"C:\\Users\\ljwil\\Desktop\\Intro STATS\\Project Stats 2\\Chapter 3\\Movies2016.xlsx\",usecols=[\"Total Gross Sales ($ millions)\"])"
   ]
  },
  {
   "cell_type": "code",
   "execution_count": 4,
   "metadata": {},
   "outputs": [
    {
     "name": "stdout",
     "output_type": "stream",
     "text": [
      "Opening Gross Sales ($ millions) Lower & Upper Limits also Emperical Rule \n",
      "Lower Limit 12.4075\n",
      "Upper Limit : 35.245\n",
      "IQR: 22.8375\n",
      "Upper Emp Rule 69.50125\n",
      "Lower Emp Rule -21.84875\n"
     ]
    }
   ],
   "source": [
    "#IQR caluation \n",
    "# Opening Gross Sales \n",
    "\n",
    "q1 = df['Opening Gross Sales ($ millions)'].quantile(0.25)\n",
    "q3 = df['Opening Gross Sales ($ millions)'].quantile(0.75)\n",
    "iqr = q3-q1\n",
    "Upper_EMP = q3+(1.5*iqr)\n",
    "Lower_EMP =  q1-(1.5*iqr)\n",
    "print('Opening Gross Sales ($ millions) Lower & Upper Limits also Emperical Rule ')\n",
    "print(\"Lower Limit\",round(q1,7))\n",
    "print(\"Upper Limit :\",round(q3,7))\n",
    "print(\"IQR:\",round(iqr,7))\n",
    "print(\"Upper Emp Rule\",round(Upper_EMP,7))\n",
    "print(\"Lower Emp Rule\",round(Lower_EMP,7))\n"
   ]
  },
  {
   "cell_type": "code",
   "execution_count": 5,
   "metadata": {},
   "outputs": [
    {
     "name": "stdout",
     "output_type": "stream",
     "text": [
      "Total Gross Sales ($ millions) Lower & Upper Limits also Emperical Rule\n",
      "Lower Limit 40.7825\n",
      "Upper Limit : 108.9475\n",
      "IQR: 68.165\n",
      "Upper Emp Rule 211.195\n",
      "Lower Emp Rule -61.465\n"
     ]
    }
   ],
   "source": [
    "#IQR caluation \n",
    "# Total Gross Sales \n",
    "q1 = df[\"Total Gross Sales ($ millions)\"].quantile(0.25)\n",
    "q3 = df[\"Total Gross Sales ($ millions)\"].quantile(0.75)\n",
    "iqr = q3-q1\n",
    "Upper_EMP = q3+(1.5*iqr)\n",
    "Lower_EMP =  q1-(1.5*iqr)\n",
    "print('Total Gross Sales ($ millions) Lower & Upper Limits also Emperical Rule')\n",
    "print(\"Lower Limit\",round(q1,7))\n",
    "print(\"Upper Limit :\",round(q3,7))\n",
    "print(\"IQR:\",round(iqr,7))\n",
    "print(\"Upper Emp Rule\",round(Upper_EMP,7))\n",
    "print(\"Lower Emp Rule\",round(Lower_EMP,7))"
   ]
  }
 ],
 "metadata": {
  "kernelspec": {
   "display_name": "Python 3",
   "language": "python",
   "name": "python3"
  },
  "language_info": {
   "codemirror_mode": {
    "name": "ipython",
    "version": 3
   },
   "file_extension": ".py",
   "mimetype": "text/x-python",
   "name": "python",
   "nbconvert_exporter": "python",
   "pygments_lexer": "ipython3",
   "version": "3.10.7"
  }
 },
 "nbformat": 4,
 "nbformat_minor": 2
}
