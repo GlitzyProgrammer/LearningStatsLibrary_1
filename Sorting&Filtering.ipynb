{
 "cells": [
  {
   "cell_type": "code",
   "execution_count": 9,
   "metadata": {},
   "outputs": [
    {
     "name": "stdout",
     "output_type": "stream",
     "text": [
      " \n",
      "The following movies had an Opening Gross Sales more than 50 million\n",
      "                                Movie Title  Opening Gross Sales ($ millions)\n",
      "0              Rogue One: A Star Wars Story                            155.08\n",
      "1                              Finding Dory                            135.06\n",
      "2                Captain America: Civil War                            179.14\n",
      "3                   The Secret Life of Pets                            104.35\n",
      "4                    The Jungle Book (2016)                            103.26\n",
      "5                                  Deadpool                            132.43\n",
      "6                                  Zootopia                             75.06\n",
      "7        Batman v Superman: Dawn of Justice                            166.01\n",
      "8                             Suicide Squad                            133.68\n",
      "9                                     Moana                             56.63\n",
      "10  Fantastic Beasts and Where To Find Them                             74.40\n",
      "11                           Doctor Strange                             85.06\n",
      "12                             Jason Bourne                             59.22\n",
      "13                         Star Trek Beyond                             59.25\n",
      "14                        X-Men: Apocalypse                             65.77\n"
     ]
    }
   ],
   "source": [
    "import pandas as pd \n",
    "import numpy as np\n",
    "\n",
    "df = pd.read_excel(r\"C:\\Users\\ljwil\\Desktop\\Intro STATS\\Project Stats 2\\Chapter 2\\Movies2016.xlsx\",sheet_name=\"Sheet1\")\n",
    "\n",
    "Op_sales = pd.read_excel(r\"C:\\Users\\ljwil\\Desktop\\Intro STATS\\Project Stats 2\\Chapter 2\\Movies2016.xlsx\",usecols=[\"Opening Gross Sales ($ millions)\"])\n",
    "\n",
    "bin_sales=[0,100,np.inf]\n",
    "\n",
    "x_axis_labels = [' Over $100M for Opening Gross Sales',\t' Under $100M for Opening Gross Sales']\n",
    "y_axis_labels = ['SuperHero',\"non-Suphero\"]\n",
    "\n",
    "superhero = ['X-Men Apocalypse', 'Doctor Strange', 'Deadpool', 'Suicide Squad', 'Batman v Superman: Dawn of Justice', 'Captain America: Civil War']\n",
    "# I will use this list to seperate the supehero moives and the non-supherhero movies\n",
    "\n",
    "print(\" \")\n",
    "#This point I filtered out movies in general that had Opening Gross Sales over 50 million dollars\n",
    "print(\"The following movies had an Opening Gross Sales more than 50 million\")\n",
    "more_50mil = {\"Movie Title\":[],\n",
    "              \"Opening Gross Sales ($ millions)\":[]}\n",
    "for index, row in df.iterrows():\n",
    "    current_value = row[\"Opening Gross Sales ($ millions)\"]\n",
    "    if current_value > 50:\n",
    "           more_50mil['Movie Title'].append(row[\"Movie Title\"])\n",
    "           more_50mil['Opening Gross Sales ($ millions)'].append(row['Opening Gross Sales ($ millions)'])\n",
    "        \n",
    "fiftymillion_df = pd.DataFrame(more_50mil)\n",
    "fifymillion_sorted = fiftymillion_df.sort_values(by='Opening Gross Sales ($ millions)')  \n",
    "#This sorted the dataframe in ascending order\n",
    "print(fiftymillion_df)"
   ]
  },
  {
   "cell_type": "code",
   "execution_count": 10,
   "metadata": {},
   "outputs": [
    {
     "name": "stdout",
     "output_type": "stream",
     "text": [
      "Proof of sorting\n",
      "\n",
      "                                Movie Title  Opening Gross Sales ($ millions)\n",
      "9                                     Moana                             56.63\n",
      "12                             Jason Bourne                             59.22\n",
      "13                         Star Trek Beyond                             59.25\n",
      "14                        X-Men: Apocalypse                             65.77\n",
      "10  Fantastic Beasts and Where To Find Them                             74.40\n",
      "6                                  Zootopia                             75.06\n",
      "11                           Doctor Strange                             85.06\n",
      "4                    The Jungle Book (2016)                            103.26\n",
      "3                   The Secret Life of Pets                            104.35\n",
      "5                                  Deadpool                            132.43\n",
      "8                             Suicide Squad                            133.68\n",
      "1                              Finding Dory                            135.06\n",
      "0              Rogue One: A Star Wars Story                            155.08\n",
      "7        Batman v Superman: Dawn of Justice                            166.01\n",
      "2                Captain America: Civil War                            179.14\n",
      "\n",
      "\n"
     ]
    }
   ],
   "source": [
    "print(\"Proof of sorting\\n\")\n",
    "print(fifymillion_sorted)\n",
    "print(\"\\n\")"
   ]
  },
  {
   "cell_type": "code",
   "execution_count": 11,
   "metadata": {},
   "outputs": [
    {
     "name": "stdout",
     "output_type": "stream",
     "text": [
      "Cross Tab of  relative success\n",
      "               # Over $100M for Opening Gross Sales  \\\n",
      "Superhero                                         4   \n",
      "Not Superhero                                     4   \n",
      "\n",
      "               # Under $100M for Opening Gross Sales  \n",
      "Superhero                                          1  \n",
      "Not Superhero                                      6  \n"
     ]
    }
   ],
   "source": [
    "print(\"Cross Tab of  relative success\")\n",
    "#This crosstab is for understanding the performance of movies  with in certian ranges \n",
    "\n",
    "#This one is a custom crosstabulation of the relative sucess of Superhero and Non-suphero movies \n",
    "#being over or under 100 million dollars\n",
    "u_left= 0\n",
    "u_right=0\n",
    "l_left = 0\n",
    "l_right = 0\n",
    "for index, row in fifymillion_sorted.iterrows():\n",
    "      if row['Movie Title'] in superhero and row[\"Opening Gross Sales ($ millions)\"]>100:   #greater than 100 and suphero\n",
    "           u_left +=1\n",
    "      elif row['Movie Title'] in superhero and row[\"Opening Gross Sales ($ millions)\"]<100:  #less than 100 and suphero\n",
    "            u_right+=1\n",
    "            \n",
    "      elif not(row['Movie Title'] in superhero) and row[\"Opening Gross Sales ($ millions)\"]<100:\n",
    "            l_right +=1              #non suphero and less than 100\n",
    "      elif not(row['Movie Title'] in superhero) and row[\"Opening Gross Sales ($ millions)\"]>100:\n",
    "            l_left+= 1\n",
    "super_hero = {\"# Over $100M for Opening Gross Sales\":[],\n",
    "              \"# Under $100M for Opening Gross Sales\":[]}\t\t\n",
    "labels = ['Superhero','Not Superhero']\n",
    "super_hero['# Over $100M for Opening Gross Sales'].append(u_left)\n",
    "super_hero['# Over $100M for Opening Gross Sales'].append(l_left)\n",
    "super_hero['# Under $100M for Opening Gross Sales'].append(u_right)\n",
    "super_hero['# Under $100M for Opening Gross Sales'].append(l_right)\n",
    "df_supher_hero = pd.DataFrame(super_hero)\n",
    "df_supher_hero = df_supher_hero .rename(index={0: labels[0], 1: labels[1]})\n",
    "print(df_supher_hero)"
   ]
  }
 ],
 "metadata": {
  "kernelspec": {
   "display_name": "Python 3",
   "language": "python",
   "name": "python3"
  },
  "language_info": {
   "codemirror_mode": {
    "name": "ipython",
    "version": 3
   },
   "file_extension": ".py",
   "mimetype": "text/x-python",
   "name": "python",
   "nbconvert_exporter": "python",
   "pygments_lexer": "ipython3",
   "version": "3.10.7"
  }
 },
 "nbformat": 4,
 "nbformat_minor": 2
}
