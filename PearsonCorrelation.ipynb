{
 "cells": [
  {
   "cell_type": "code",
   "execution_count": 1,
   "metadata": {},
   "outputs": [],
   "source": [
    "import pandas as pd \n",
    "import matplotlib.pyplot as plt\n",
    "import numpy as np\n",
    "from scipy.stats import pearsonr\n",
    "import itertools \n",
    "df = pd.read_excel(r\"C:\\Users\\ljwil\\Desktop\\Intro STATS\\Project Stats 2\\Chapter 3\\Movies2016.xlsx\",sheet_name=\"Sheet1\")\n",
    "\n",
    "\n",
    "df['Opening Gross Sales ($ millions)'] =  pd.read_excel(r\"C:\\Users\\ljwil\\Desktop\\Intro STATS\\Project Stats 2\\Chapter 3\\Movies2016.xlsx\",usecols=['Opening Gross Sales ($ millions)'])\n",
    "df[\"Total Gross Sales ($ millions)\"] = pd.read_excel(r\"C:\\Users\\ljwil\\Desktop\\Intro STATS\\Project Stats 2\\Chapter 3\\Movies2016.xlsx\",usecols=[\"Total Gross Sales ($ millions)\"])\n",
    "df['Number of Theaters']= pd.read_excel(r\"C:\\Users\\ljwil\\Desktop\\Intro STATS\\Project Stats 2\\Chapter 3\\Movies2016.xlsx\",usecols=['Number of Theaters'])\n",
    "df['Weeks in Realse'] = pd.read_excel(r\"C:\\Users\\ljwil\\Desktop\\Intro STATS\\Project Stats 2\\Chapter 3\\Movies2016.xlsx\",usecols=['Weeks in Release'])\n",
    "\n",
    "Opening_Gross = df['Opening Gross Sales ($ millions)']\n",
    "Total_Gross = df[\"Total Gross Sales ($ millions)\"] \n",
    "Num_Theaters =df['Number of Theaters']\n",
    "Weeks_In_Real =df['Weeks in Realse']\n",
    "\n",
    "colums = [Opening_Gross,Total_Gross,Num_Theaters,Weeks_In_Real]\n",
    "dataframes = {'Opening Gross Sales ($ millions)': df['Opening Gross Sales ($ millions)'],\n",
    "               \"Total Gross Sales ($ millions)\": df[\"Total Gross Sales ($ millions)\"],\n",
    "               'Number of Theaters':df['Number of Theaters'],\n",
    "               'Weeks in Realse':df['Weeks in Realse']}"
   ]
  },
  {
   "cell_type": "code",
   "execution_count": 2,
   "metadata": {},
   "outputs": [],
   "source": [
    "#This function does a pairwise comparison using the Pearson Correlation in numpy for each data frame pulled from the Excel File \n",
    "def pariwise_cor_pearson(dataframes):  \n",
    "     for pair in itertools.combinations(dataframes, 2): \n",
    "             element1, element2 = pair \n",
    "             dataframes[element1] \n",
    "             \n",
    "             corr_matrix = np.corrcoef(dataframes[element1] ,dataframes[element2] )\n",
    "             corr_coefficient = corr_matrix[0, 1]\n",
    "             print(f\"This is the Pearson Correlaiton Coefficient for {element1} and {element2} is  {round(corr_coefficient,3)}\")"
   ]
  },
  {
   "cell_type": "code",
   "execution_count": 3,
   "metadata": {},
   "outputs": [
    {
     "name": "stdout",
     "output_type": "stream",
     "text": [
      "This is the Pearson Correlaiton Coefficient for Opening Gross Sales ($ millions) and Total Gross Sales ($ millions) is  0.918\n",
      "This is the Pearson Correlaiton Coefficient for Opening Gross Sales ($ millions) and Number of Theaters is  0.63\n",
      "This is the Pearson Correlaiton Coefficient for Opening Gross Sales ($ millions) and Weeks in Realse is  0.261\n",
      "This is the Pearson Correlaiton Coefficient for Total Gross Sales ($ millions) and Number of Theaters is  0.613\n",
      "This is the Pearson Correlaiton Coefficient for Total Gross Sales ($ millions) and Weeks in Realse is  0.474\n",
      "This is the Pearson Correlaiton Coefficient for Number of Theaters and Weeks in Realse is  0.176\n"
     ]
    }
   ],
   "source": [
    "pariwise_cor_pearson(dataframes)"
   ]
  },
  {
   "cell_type": "code",
   "execution_count": 4,
   "metadata": {},
   "outputs": [],
   "source": [
    "#From the results I can say that the Opening Gross Sales, Total Gross Sales and Number of Theaters\n",
    "# have a descent relation to the point that one can reasonably say that one can predict the other's performance"
   ]
  }
 ],
 "metadata": {
  "kernelspec": {
   "display_name": "Python 3",
   "language": "python",
   "name": "python3"
  },
  "language_info": {
   "codemirror_mode": {
    "name": "ipython",
    "version": 3
   },
   "file_extension": ".py",
   "mimetype": "text/x-python",
   "name": "python",
   "nbconvert_exporter": "python",
   "pygments_lexer": "ipython3",
   "version": "3.10.7"
  }
 },
 "nbformat": 4,
 "nbformat_minor": 2
}
