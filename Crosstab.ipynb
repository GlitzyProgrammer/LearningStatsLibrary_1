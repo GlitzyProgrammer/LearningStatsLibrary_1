{
 "cells": [
  {
   "cell_type": "code",
   "execution_count": 2,
   "metadata": {},
   "outputs": [
    {
     "name": "stdout",
     "output_type": "stream",
     "text": [
      "Weeks in Release                (5, 25]  (25, 30]  (30, 50]  Grand Total\n",
      "Total Gross Sales ($ millions)                                          \n",
      "(20, 120]                            75         1         0           76\n",
      "(120, 220]                           10         0         1           11\n",
      "(220, 320]                            4         0         0            4\n",
      "(320, 420]                            7         0         0            7\n",
      "(420, 520]                            1         0         0            1\n",
      "(520, 620]                            1         0         0            1\n",
      "Grand Total                          98         1         1          100\n"
     ]
    }
   ],
   "source": [
    "import pandas as pd \n",
    "df = pd.read_excel(r\"C:\\Users\\ljwil\\Desktop\\Intro STATS\\Project Stats 2\\Chapter 2\\Movies2016.xlsx\",sheet_name=\"Sheet1\")\n",
    "y_axis = pd.read_excel(r\"C:\\Users\\ljwil\\Desktop\\Intro STATS\\Project Stats 2\\Chapter 2\\Movies2016.xlsx\",usecols=[\"Total Gross Sales ($ millions)\"])\n",
    "\n",
    "x_axis = pd.read_excel(r\"C:\\Users\\ljwil\\Desktop\\Intro STATS\\Project Stats 2\\Chapter 2\\Movies2016.xlsx\", usecols=[\"Weeks in Release\"])\n",
    "y_axis = y_axis.astype(float)\n",
    "bins_y = [20,120,220,320,420,520,620]\n",
    "bins_x = [5,25,30,50]\n",
    "\n",
    "#Changed the orignal x-axis bins because the way that cross tab does bins goes infintly inbetween points\n",
    "#It also ignored some ibetween values in the bins suggested automatically\n",
    "\n",
    "df[\"Weeks in Release\"]=pd.cut(df[\"Weeks in Release\"],bins=bins_x)\n",
    "df[\"Total Gross Sales ($ millions)\"]=pd.cut(df[\"Total Gross Sales ($ millions)\"],bins=bins_y, right=True)\n",
    "\n",
    "cross_table = pd.crosstab(df[\"Total Gross Sales ($ millions)\"],df[\"Weeks in Release\"] ,margins=True, margins_name='Grand Total')\n",
    "print(cross_table)\n"
   ]
  }
 ],
 "metadata": {
  "kernelspec": {
   "display_name": "Python 3",
   "language": "python",
   "name": "python3"
  },
  "language_info": {
   "codemirror_mode": {
    "name": "ipython",
    "version": 3
   },
   "file_extension": ".py",
   "mimetype": "text/x-python",
   "name": "python",
   "nbconvert_exporter": "python",
   "pygments_lexer": "ipython3",
   "version": "3.10.7"
  }
 },
 "nbformat": 4,
 "nbformat_minor": 2
}
